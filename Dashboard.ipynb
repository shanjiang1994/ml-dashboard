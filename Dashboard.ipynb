{
 "cells": [
  {
   "cell_type": "code",
   "execution_count": 1,
   "metadata": {
    "executionInfo": {
     "elapsed": 309,
     "status": "ok",
     "timestamp": 1622072709893,
     "user": {
      "displayName": "Steve Newman",
      "photoUrl": "https://lh3.googleusercontent.com/a-/AOh14GiOswJGIbdvZxvoTtMNJ0vb_dGVQSPsJAy9e2VD=s64",
      "userId": "08911050962113299182"
     },
     "user_tz": 240
    },
    "id": "MgoVVnb3Cfm-"
   },
   "outputs": [],
   "source": [
    "import pandas as pd\n",
    "import numpy as np\n",
    "import random"
   ]
  },
  {
   "cell_type": "code",
   "execution_count": 2,
   "metadata": {
    "colab": {
     "base_uri": "https://localhost:8080/",
     "height": 409
    },
    "executionInfo": {
     "elapsed": 312,
     "status": "error",
     "timestamp": 1622072774658,
     "user": {
      "displayName": "Steve Newman",
      "photoUrl": "https://lh3.googleusercontent.com/a-/AOh14GiOswJGIbdvZxvoTtMNJ0vb_dGVQSPsJAy9e2VD=s64",
      "userId": "08911050962113299182"
     },
     "user_tz": 240
    },
    "id": "oHe3l5GhCfnB",
    "outputId": "ebb6dacd-e20f-468e-8371-7d0241457745"
   },
   "outputs": [],
   "source": [
    "#Model 1 \n",
    "data = pd.read_csv(r\"virufy-cdf-coswara-v2-predicted.csv\", \n",
    "                   index_col = 0, \n",
    "                   header = 0)"
   ]
  },
  {
   "cell_type": "code",
   "execution_count": 3,
   "metadata": {
    "colab": {
     "base_uri": "https://localhost:8080/",
     "height": 198
    },
    "executionInfo": {
     "elapsed": 24,
     "status": "error",
     "timestamp": 1622072377396,
     "user": {
      "displayName": "Steve Newman",
      "photoUrl": "https://lh3.googleusercontent.com/a-/AOh14GiOswJGIbdvZxvoTtMNJ0vb_dGVQSPsJAy9e2VD=s64",
      "userId": "08911050962113299182"
     },
     "user_tz": 240
    },
    "id": "6a_tKj05CfnC",
    "outputId": "c204c0f1-e94c-414a-b419-b7847efbd411"
   },
   "outputs": [
    {
     "name": "stderr",
     "output_type": "stream",
     "text": [
      "C:\\Users\\65914\\anaconda3\\lib\\site-packages\\pandas\\core\\frame.py:4125: SettingWithCopyWarning: \n",
      "A value is trying to be set on a copy of a slice from a DataFrame\n",
      "\n",
      "See the caveats in the documentation: https://pandas.pydata.org/pandas-docs/stable/user_guide/indexing.html#returning-a-view-versus-a-copy\n",
      "  return super().rename(\n"
     ]
    }
   ],
   "source": [
    "# Extracting the required columns\n",
    "models = data[['country', 'source','age','pcr_test_result','pcr_test_result_predicted_ahmed']]\n",
    "models.rename(columns = {'pcr_test_result_predicted_ahmed':'Ahmed_model'}, inplace = True)\n",
    "# Extracting the top 4 countries\n",
    "models = models.loc[models['country'].isin(models['country'].value_counts()[:4].index.tolist())]"
   ]
  },
  {
   "cell_type": "code",
   "execution_count": 4,
   "metadata": {
    "colab": {
     "base_uri": "https://localhost:8080/",
     "height": 181
    },
    "executionInfo": {
     "elapsed": 47,
     "status": "error",
     "timestamp": 1622072377423,
     "user": {
      "displayName": "Steve Newman",
      "photoUrl": "https://lh3.googleusercontent.com/a-/AOh14GiOswJGIbdvZxvoTtMNJ0vb_dGVQSPsJAy9e2VD=s64",
      "userId": "08911050962113299182"
     },
     "user_tz": 240
    },
    "id": "pFH_4UBKCfnC",
    "outputId": "f5dc4e4e-c106-43bb-b3a3-1cfa327f907b"
   },
   "outputs": [],
   "source": [
    "models = models.loc[(models['pcr_test_result'] == 'negative') | (models['pcr_test_result'] == 'positive')]\n",
    "models = models.dropna() "
   ]
  },
  {
   "cell_type": "code",
   "execution_count": 5,
   "metadata": {
    "id": "UkMPVyCICfnD"
   },
   "outputs": [],
   "source": [
    "models['pcr_test_result'] = models.pcr_test_result.replace({'negative':0, 'positive':1})\n",
    "\n",
    "# Converting anything > 0.5 as positive otherwise negative\n",
    "models['Ahmed_model'] = np.where(models['Ahmed_model'] > 0.5, 1, 0)\n"
   ]
  },
  {
   "cell_type": "code",
   "execution_count": 6,
   "metadata": {
    "colab": {
     "base_uri": "https://localhost:8080/",
     "height": 232
    },
    "executionInfo": {
     "elapsed": 64,
     "status": "error",
     "timestamp": 1622072378208,
     "user": {
      "displayName": "Steve Newman",
      "photoUrl": "https://lh3.googleusercontent.com/a-/AOh14GiOswJGIbdvZxvoTtMNJ0vb_dGVQSPsJAy9e2VD=s64",
      "userId": "08911050962113299182"
     },
     "user_tz": 240
    },
    "id": "zkQj6E_nCfnD",
    "outputId": "73769cdd-1ad7-44ec-9a6d-c99cd2a96948"
   },
   "outputs": [],
   "source": [
    "#Creating model 2 data\n",
    "np.random.seed(0)\n",
    "\n",
    "models['model_2'] = np.array(random.choices([0,1], k=len(models))).reshape(len(models),1)\n",
    "models['model_3'] = np.array(random.choices([0,1], k=len(models))).reshape(len(models),1)\n",
    "models['model_4'] = np.array(random.choices([0,1], k=len(models))).reshape(len(models),1)\n",
    "models['model_5'] = np.array(random.choices([0,1], k=len(models))).reshape(len(models),1)\n",
    "models['model_6'] = np.array(random.choices([0,1], k=len(models))).reshape(len(models),1)"
   ]
  },
  {
   "cell_type": "code",
   "execution_count": 7,
   "metadata": {
    "colab": {
     "base_uri": "https://localhost:8080/",
     "height": 164
    },
    "executionInfo": {
     "elapsed": 21,
     "status": "error",
     "timestamp": 1622072379353,
     "user": {
      "displayName": "Steve Newman",
      "photoUrl": "https://lh3.googleusercontent.com/a-/AOh14GiOswJGIbdvZxvoTtMNJ0vb_dGVQSPsJAy9e2VD=s64",
      "userId": "08911050962113299182"
     },
     "user_tz": 240
    },
    "id": "oAHXTBmPCfnE",
    "outputId": "2274413d-dd79-4d5e-f97b-a547a0204f19"
   },
   "outputs": [
    {
     "data": {
      "text/html": [
       "<div>\n",
       "<style scoped>\n",
       "    .dataframe tbody tr th:only-of-type {\n",
       "        vertical-align: middle;\n",
       "    }\n",
       "\n",
       "    .dataframe tbody tr th {\n",
       "        vertical-align: top;\n",
       "    }\n",
       "\n",
       "    .dataframe thead th {\n",
       "        text-align: right;\n",
       "    }\n",
       "</style>\n",
       "<table border=\"1\" class=\"dataframe\">\n",
       "  <thead>\n",
       "    <tr style=\"text-align: right;\">\n",
       "      <th></th>\n",
       "      <th>country</th>\n",
       "      <th>source</th>\n",
       "      <th>age</th>\n",
       "      <th>pcr_test_result</th>\n",
       "      <th>Ahmed_model</th>\n",
       "      <th>model_2</th>\n",
       "      <th>model_3</th>\n",
       "      <th>model_4</th>\n",
       "      <th>model_5</th>\n",
       "      <th>model_6</th>\n",
       "    </tr>\n",
       "  </thead>\n",
       "  <tbody>\n",
       "    <tr>\n",
       "      <th>0</th>\n",
       "      <td>India</td>\n",
       "      <td>coswara</td>\n",
       "      <td>22</td>\n",
       "      <td>0</td>\n",
       "      <td>1</td>\n",
       "      <td>0</td>\n",
       "      <td>1</td>\n",
       "      <td>0</td>\n",
       "      <td>0</td>\n",
       "      <td>0</td>\n",
       "    </tr>\n",
       "    <tr>\n",
       "      <th>1</th>\n",
       "      <td>India</td>\n",
       "      <td>coswara</td>\n",
       "      <td>22</td>\n",
       "      <td>0</td>\n",
       "      <td>1</td>\n",
       "      <td>1</td>\n",
       "      <td>0</td>\n",
       "      <td>1</td>\n",
       "      <td>1</td>\n",
       "      <td>0</td>\n",
       "    </tr>\n",
       "    <tr>\n",
       "      <th>2</th>\n",
       "      <td>India</td>\n",
       "      <td>coswara</td>\n",
       "      <td>44</td>\n",
       "      <td>0</td>\n",
       "      <td>0</td>\n",
       "      <td>1</td>\n",
       "      <td>0</td>\n",
       "      <td>0</td>\n",
       "      <td>0</td>\n",
       "      <td>0</td>\n",
       "    </tr>\n",
       "    <tr>\n",
       "      <th>3</th>\n",
       "      <td>India</td>\n",
       "      <td>coswara</td>\n",
       "      <td>44</td>\n",
       "      <td>0</td>\n",
       "      <td>1</td>\n",
       "      <td>1</td>\n",
       "      <td>0</td>\n",
       "      <td>1</td>\n",
       "      <td>0</td>\n",
       "      <td>1</td>\n",
       "    </tr>\n",
       "    <tr>\n",
       "      <th>4</th>\n",
       "      <td>India</td>\n",
       "      <td>coswara</td>\n",
       "      <td>25</td>\n",
       "      <td>0</td>\n",
       "      <td>1</td>\n",
       "      <td>1</td>\n",
       "      <td>0</td>\n",
       "      <td>0</td>\n",
       "      <td>1</td>\n",
       "      <td>1</td>\n",
       "    </tr>\n",
       "  </tbody>\n",
       "</table>\n",
       "</div>"
      ],
      "text/plain": [
       "  country   source  age  pcr_test_result  Ahmed_model  model_2  model_3  \\\n",
       "0   India  coswara   22                0            1        0        1   \n",
       "1   India  coswara   22                0            1        1        0   \n",
       "2   India  coswara   44                0            0        1        0   \n",
       "3   India  coswara   44                0            1        1        0   \n",
       "4   India  coswara   25                0            1        1        0   \n",
       "\n",
       "   model_4  model_5  model_6  \n",
       "0        0        0        0  \n",
       "1        1        1        0  \n",
       "2        0        0        0  \n",
       "3        1        0        1  \n",
       "4        0        1        1  "
      ]
     },
     "execution_count": 7,
     "metadata": {},
     "output_type": "execute_result"
    }
   ],
   "source": [
    "models.head()"
   ]
  },
  {
   "cell_type": "code",
   "execution_count": 8,
   "metadata": {
    "id": "VZfE-LxRC1FM"
   },
   "outputs": [],
   "source": [
    "models.to_csv('results.csv')"
   ]
  },
  {
   "cell_type": "code",
   "execution_count": null,
   "metadata": {},
   "outputs": [],
   "source": []
  }
 ],
 "metadata": {
  "colab": {
   "name": "Dashboard.ipynb",
   "provenance": []
  },
  "kernelspec": {
   "display_name": "Python 3",
   "language": "python",
   "name": "python3"
  },
  "language_info": {
   "codemirror_mode": {
    "name": "ipython",
    "version": 3
   },
   "file_extension": ".py",
   "mimetype": "text/x-python",
   "name": "python",
   "nbconvert_exporter": "python",
   "pygments_lexer": "ipython3",
   "version": "3.8.3"
  },
  "toc": {
   "base_numbering": 1,
   "nav_menu": {},
   "number_sections": false,
   "sideBar": true,
   "skip_h1_title": false,
   "title_cell": "Table of Contents",
   "title_sidebar": "Contents",
   "toc_cell": false,
   "toc_position": {},
   "toc_section_display": true,
   "toc_window_display": false
  }
 },
 "nbformat": 4,
 "nbformat_minor": 1
}
